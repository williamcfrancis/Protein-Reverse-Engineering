{
  "nbformat": 4,
  "nbformat_minor": 0,
  "metadata": {
    "colab": {
      "provenance": []
    },
    "kernelspec": {
      "name": "python3",
      "display_name": "Python 3"
    },
    "language_info": {
      "name": "python"
    }
  },
  "cells": [
    {
      "cell_type": "code",
      "execution_count": 13,
      "metadata": {
        "colab": {
          "base_uri": "https://localhost:8080/"
        },
        "id": "nCC6pVlKchZI",
        "outputId": "4da8a768-eccd-4aae-8cba-8da3533233eb"
      },
      "outputs": [
        {
          "output_type": "stream",
          "name": "stdout",
          "text": [
            "Requirement already satisfied: biopython in /usr/local/lib/python3.11/dist-packages (1.85)\n",
            "Requirement already satisfied: numpy in /usr/local/lib/python3.11/dist-packages (from biopython) (2.0.2)\n"
          ]
        }
      ],
      "source": [
        "pip install biopython"
      ]
    },
    {
      "cell_type": "code",
      "source": [
        "pip install gffutils"
      ],
      "metadata": {
        "colab": {
          "base_uri": "https://localhost:8080/"
        },
        "id": "vJ3M8xuLf-ft",
        "outputId": "4dff6667-6161-48bc-d00e-8e179916948e"
      },
      "execution_count": 14,
      "outputs": [
        {
          "output_type": "stream",
          "name": "stdout",
          "text": [
            "Collecting gffutils\n",
            "  Downloading gffutils-0.13-py3-none-any.whl.metadata (1.5 kB)\n",
            "Collecting pyfaidx>=0.5.5.2 (from gffutils)\n",
            "  Downloading pyfaidx-0.8.1.4-py3-none-any.whl.metadata (25 kB)\n",
            "Collecting argh>=0.26.2 (from gffutils)\n",
            "  Downloading argh-0.31.3-py3-none-any.whl.metadata (7.4 kB)\n",
            "Collecting argcomplete>=1.9.4 (from gffutils)\n",
            "  Downloading argcomplete-3.6.2-py3-none-any.whl.metadata (16 kB)\n",
            "Requirement already satisfied: simplejson in /usr/local/lib/python3.11/dist-packages (from gffutils) (3.20.1)\n",
            "Requirement already satisfied: packaging in /usr/local/lib/python3.11/dist-packages (from pyfaidx>=0.5.5.2->gffutils) (24.2)\n",
            "Downloading gffutils-0.13-py3-none-any.whl (1.6 MB)\n",
            "\u001b[2K   \u001b[90m━━━━━━━━━━━━━━━━━━━━━━━━━━━━━━━━━━━━━━━━\u001b[0m \u001b[32m1.6/1.6 MB\u001b[0m \u001b[31m16.2 MB/s\u001b[0m eta \u001b[36m0:00:00\u001b[0m\n",
            "\u001b[?25hDownloading argcomplete-3.6.2-py3-none-any.whl (43 kB)\n",
            "\u001b[2K   \u001b[90m━━━━━━━━━━━━━━━━━━━━━━━━━━━━━━━━━━━━━━━━\u001b[0m \u001b[32m43.7/43.7 kB\u001b[0m \u001b[31m2.8 MB/s\u001b[0m eta \u001b[36m0:00:00\u001b[0m\n",
            "\u001b[?25hDownloading argh-0.31.3-py3-none-any.whl (44 kB)\n",
            "\u001b[2K   \u001b[90m━━━━━━━━━━━━━━━━━━━━━━━━━━━━━━━━━━━━━━━━\u001b[0m \u001b[32m44.8/44.8 kB\u001b[0m \u001b[31m2.0 MB/s\u001b[0m eta \u001b[36m0:00:00\u001b[0m\n",
            "\u001b[?25hDownloading pyfaidx-0.8.1.4-py3-none-any.whl (28 kB)\n",
            "Installing collected packages: pyfaidx, argh, argcomplete, gffutils\n",
            "Successfully installed argcomplete-3.6.2 argh-0.31.3 gffutils-0.13 pyfaidx-0.8.1.4\n"
          ]
        }
      ]
    },
    {
      "cell_type": "code",
      "source": [
        "from Bio import SeqIO\n",
        "from Bio.Seq import Seq\n",
        "import gffutils\n",
        "import gzip\n",
        "import os"
      ],
      "metadata": {
        "id": "-HxMVyvLcmdE"
      },
      "execution_count": 51,
      "outputs": []
    },
    {
      "cell_type": "code",
      "source": [
        "from google.colab import drive\n",
        "drive.mount('/content/drive')"
      ],
      "metadata": {
        "colab": {
          "base_uri": "https://localhost:8080/"
        },
        "id": "U02Iv81hcp70",
        "outputId": "ab576c88-16d7-460b-d7a7-42310ebc0e96"
      },
      "execution_count": 52,
      "outputs": [
        {
          "output_type": "stream",
          "name": "stdout",
          "text": [
            "Drive already mounted at /content/drive; to attempt to forcibly remount, call drive.mount(\"/content/drive\", force_remount=True).\n"
          ]
        }
      ]
    },
    {
      "cell_type": "code",
      "source": [
        "faa_file = \"/content/drive/MyDrive/GCF_protein.faa.gz\"   # Use your new .faa.gz\n",
        "fna_file = \"/content/drive/MyDrive/GCA.fna\"\n",
        "gff_file = \"/content/drive/MyDrive/GCF_genomic.gff.gz\""
      ],
      "metadata": {
        "id": "75bDV8RJc9AW"
      },
      "execution_count": 55,
      "outputs": []
    },
    {
      "cell_type": "code",
      "source": [
        "genome_record = next(SeqIO.parse(fna_file, \"fasta\"))\n",
        "genome_seq = genome_record.seq"
      ],
      "metadata": {
        "id": "krGZx5E4eLvY"
      },
      "execution_count": 56,
      "outputs": []
    },
    {
      "cell_type": "code",
      "source": [
        "protein_map = {}\n",
        "with gzip.open(faa_file, \"rt\") as handle:\n",
        "    for record in SeqIO.parse(handle, \"fasta\"):\n",
        "        protein_map[record.id.strip()] = str(record.seq)"
      ],
      "metadata": {
        "id": "gy9RzcY2fROn"
      },
      "execution_count": 57,
      "outputs": []
    },
    {
      "cell_type": "code",
      "source": [
        "gff_unzipped = gff_file.replace(\".gz\", \"\")\n",
        "if not os.path.exists(gff_unzipped):\n",
        "    !gzip -dk \"$gff_file\""
      ],
      "metadata": {
        "colab": {
          "base_uri": "https://localhost:8080/"
        },
        "id": "HESl4JN5ffkJ",
        "outputId": "5453c854-6311-48e8-d085-c1d0f76d5880"
      },
      "execution_count": 58,
      "outputs": [
        {
          "output_type": "stream",
          "name": "stdout",
          "text": [
            "gzip: /content/drive/MyDrive/GCF_genomic.gff.gz: No such file or directory\n"
          ]
        }
      ]
    },
    {
      "cell_type": "code",
      "source": [
        "db_path = \"/content/gff.db\"\n",
        "if not os.path.exists(db_path):\n",
        "    gffutils.create_db(gff_unzipped, dbfn=db_path, force=True, keep_order=True, merge_strategy='merge', sort_attribute_values=True)"
      ],
      "metadata": {
        "id": "M9tLM4qigKDO"
      },
      "execution_count": 59,
      "outputs": []
    },
    {
      "cell_type": "code",
      "source": [
        "gff_file = \"/content/drive/MyDrive/genomic.gff\"\n",
        "db_path = \"/content/gff.db\""
      ],
      "metadata": {
        "id": "sV43cSlCgyqk"
      },
      "execution_count": 45,
      "outputs": []
    },
    {
      "cell_type": "code",
      "source": [
        "db = gffutils.FeatureDB(db_path, keep_order=True)"
      ],
      "metadata": {
        "id": "NsK4a7cCg0sL"
      },
      "execution_count": 60,
      "outputs": []
    },
    {
      "cell_type": "code",
      "source": [
        "paired_data = []"
      ],
      "metadata": {
        "id": "kRh9v7q0g3Bc"
      },
      "execution_count": 61,
      "outputs": []
    },
    {
      "cell_type": "code",
      "source": [
        "for feature in db.features_of_type(\"CDS\"):\n",
        "    if \"protein_id\" in feature.attributes:\n",
        "        pid = feature.attributes[\"protein_id\"][0]  # e.g., NP_414542.1\n",
        "        if pid in protein_map:\n",
        "            start, end = int(feature.start) - 1, int(feature.end)  # GFF is 1-based\n",
        "            strand = feature.strand\n",
        "            dna_seq = genome_seq[start:end]\n",
        "            if strand == \"-\":\n",
        "                dna_seq = dna_seq.reverse_complement()\n",
        "            paired_data.append((protein_map[pid], str(dna_seq)))"
      ],
      "metadata": {
        "id": "ZvjXxYrJg5C0"
      },
      "execution_count": 62,
      "outputs": []
    },
    {
      "cell_type": "code",
      "source": [
        "print(f\"✅ Extracted {len(paired_data)} valid protein-DNA pairs.\")"
      ],
      "metadata": {
        "colab": {
          "base_uri": "https://localhost:8080/"
        },
        "id": "_xBM0I8dg7Ec",
        "outputId": "fae223b0-be0d-4397-ee78-3901d8e41564"
      },
      "execution_count": 63,
      "outputs": [
        {
          "output_type": "stream",
          "name": "stdout",
          "text": [
            "✅ Extracted 4301 valid protein-DNA pairs.\n"
          ]
        }
      ]
    },
    {
      "cell_type": "code",
      "source": [
        "import pandas as pd"
      ],
      "metadata": {
        "id": "14J13dFlhViH"
      },
      "execution_count": 64,
      "outputs": []
    },
    {
      "cell_type": "code",
      "source": [
        "df = pd.DataFrame(paired_data, columns=[\"protein_sequence\", \"coding_dna\"])"
      ],
      "metadata": {
        "id": "btF68wkHiY-d"
      },
      "execution_count": 65,
      "outputs": []
    },
    {
      "cell_type": "code",
      "source": [
        "df.head()"
      ],
      "metadata": {
        "colab": {
          "base_uri": "https://localhost:8080/",
          "height": 206
        },
        "id": "rf9tDPB1idMA",
        "outputId": "251cfedd-4f5a-484a-9db4-ff6fc53ee5fa"
      },
      "execution_count": 66,
      "outputs": [
        {
          "output_type": "execute_result",
          "data": {
            "text/plain": [
              "                                    protein_sequence  \\\n",
              "0                              MKRISTTITTTITITTGNGAG   \n",
              "1  MRVLKFGGTSVANAERFLRVADILESNARQGQVATVLSAPAKITNH...   \n",
              "2  MVKVYAPASSANMSVGFDVLGAAVTPVDGALLGDVVTVEAAETFSL...   \n",
              "3  MKLYNLKDHNEQVSFAQAVTQGLGKNQGLFFPHDLPEFSLTEIDEM...   \n",
              "4  MKKMQSIVLALSLVLVAPMAAQAAEITLVPSVKLQIGDRDNRGYYW...   \n",
              "\n",
              "                                          coding_dna  \n",
              "0  ATGAAACGCATTAGCACCACCATTACCACCACCATCACCATTACCA...  \n",
              "1  ATGCGAGTGTTGAAGTTCGGCGGTACATCAGTGGCAAATGCAGAAC...  \n",
              "2  ATGGTTAAAGTTTATGCCCCGGCTTCCAGTGCCAATATGAGCGTCG...  \n",
              "3  ATGAAACTCTACAATCTGAAAGATCACAACGAGCAGGTCAGCTTTG...  \n",
              "4  GTGAAAAAGATGCAATCTATCGTACTCGCACTTTCCCTGGTTCTGG...  "
            ],
            "text/html": [
              "\n",
              "  <div id=\"df-b7d06ed4-b4ce-4f1b-9c7f-0206dba34842\" class=\"colab-df-container\">\n",
              "    <div>\n",
              "<style scoped>\n",
              "    .dataframe tbody tr th:only-of-type {\n",
              "        vertical-align: middle;\n",
              "    }\n",
              "\n",
              "    .dataframe tbody tr th {\n",
              "        vertical-align: top;\n",
              "    }\n",
              "\n",
              "    .dataframe thead th {\n",
              "        text-align: right;\n",
              "    }\n",
              "</style>\n",
              "<table border=\"1\" class=\"dataframe\">\n",
              "  <thead>\n",
              "    <tr style=\"text-align: right;\">\n",
              "      <th></th>\n",
              "      <th>protein_sequence</th>\n",
              "      <th>coding_dna</th>\n",
              "    </tr>\n",
              "  </thead>\n",
              "  <tbody>\n",
              "    <tr>\n",
              "      <th>0</th>\n",
              "      <td>MKRISTTITTTITITTGNGAG</td>\n",
              "      <td>ATGAAACGCATTAGCACCACCATTACCACCACCATCACCATTACCA...</td>\n",
              "    </tr>\n",
              "    <tr>\n",
              "      <th>1</th>\n",
              "      <td>MRVLKFGGTSVANAERFLRVADILESNARQGQVATVLSAPAKITNH...</td>\n",
              "      <td>ATGCGAGTGTTGAAGTTCGGCGGTACATCAGTGGCAAATGCAGAAC...</td>\n",
              "    </tr>\n",
              "    <tr>\n",
              "      <th>2</th>\n",
              "      <td>MVKVYAPASSANMSVGFDVLGAAVTPVDGALLGDVVTVEAAETFSL...</td>\n",
              "      <td>ATGGTTAAAGTTTATGCCCCGGCTTCCAGTGCCAATATGAGCGTCG...</td>\n",
              "    </tr>\n",
              "    <tr>\n",
              "      <th>3</th>\n",
              "      <td>MKLYNLKDHNEQVSFAQAVTQGLGKNQGLFFPHDLPEFSLTEIDEM...</td>\n",
              "      <td>ATGAAACTCTACAATCTGAAAGATCACAACGAGCAGGTCAGCTTTG...</td>\n",
              "    </tr>\n",
              "    <tr>\n",
              "      <th>4</th>\n",
              "      <td>MKKMQSIVLALSLVLVAPMAAQAAEITLVPSVKLQIGDRDNRGYYW...</td>\n",
              "      <td>GTGAAAAAGATGCAATCTATCGTACTCGCACTTTCCCTGGTTCTGG...</td>\n",
              "    </tr>\n",
              "  </tbody>\n",
              "</table>\n",
              "</div>\n",
              "    <div class=\"colab-df-buttons\">\n",
              "\n",
              "  <div class=\"colab-df-container\">\n",
              "    <button class=\"colab-df-convert\" onclick=\"convertToInteractive('df-b7d06ed4-b4ce-4f1b-9c7f-0206dba34842')\"\n",
              "            title=\"Convert this dataframe to an interactive table.\"\n",
              "            style=\"display:none;\">\n",
              "\n",
              "  <svg xmlns=\"http://www.w3.org/2000/svg\" height=\"24px\" viewBox=\"0 -960 960 960\">\n",
              "    <path d=\"M120-120v-720h720v720H120Zm60-500h600v-160H180v160Zm220 220h160v-160H400v160Zm0 220h160v-160H400v160ZM180-400h160v-160H180v160Zm440 0h160v-160H620v160ZM180-180h160v-160H180v160Zm440 0h160v-160H620v160Z\"/>\n",
              "  </svg>\n",
              "    </button>\n",
              "\n",
              "  <style>\n",
              "    .colab-df-container {\n",
              "      display:flex;\n",
              "      gap: 12px;\n",
              "    }\n",
              "\n",
              "    .colab-df-convert {\n",
              "      background-color: #E8F0FE;\n",
              "      border: none;\n",
              "      border-radius: 50%;\n",
              "      cursor: pointer;\n",
              "      display: none;\n",
              "      fill: #1967D2;\n",
              "      height: 32px;\n",
              "      padding: 0 0 0 0;\n",
              "      width: 32px;\n",
              "    }\n",
              "\n",
              "    .colab-df-convert:hover {\n",
              "      background-color: #E2EBFA;\n",
              "      box-shadow: 0px 1px 2px rgba(60, 64, 67, 0.3), 0px 1px 3px 1px rgba(60, 64, 67, 0.15);\n",
              "      fill: #174EA6;\n",
              "    }\n",
              "\n",
              "    .colab-df-buttons div {\n",
              "      margin-bottom: 4px;\n",
              "    }\n",
              "\n",
              "    [theme=dark] .colab-df-convert {\n",
              "      background-color: #3B4455;\n",
              "      fill: #D2E3FC;\n",
              "    }\n",
              "\n",
              "    [theme=dark] .colab-df-convert:hover {\n",
              "      background-color: #434B5C;\n",
              "      box-shadow: 0px 1px 3px 1px rgba(0, 0, 0, 0.15);\n",
              "      filter: drop-shadow(0px 1px 2px rgba(0, 0, 0, 0.3));\n",
              "      fill: #FFFFFF;\n",
              "    }\n",
              "  </style>\n",
              "\n",
              "    <script>\n",
              "      const buttonEl =\n",
              "        document.querySelector('#df-b7d06ed4-b4ce-4f1b-9c7f-0206dba34842 button.colab-df-convert');\n",
              "      buttonEl.style.display =\n",
              "        google.colab.kernel.accessAllowed ? 'block' : 'none';\n",
              "\n",
              "      async function convertToInteractive(key) {\n",
              "        const element = document.querySelector('#df-b7d06ed4-b4ce-4f1b-9c7f-0206dba34842');\n",
              "        const dataTable =\n",
              "          await google.colab.kernel.invokeFunction('convertToInteractive',\n",
              "                                                    [key], {});\n",
              "        if (!dataTable) return;\n",
              "\n",
              "        const docLinkHtml = 'Like what you see? Visit the ' +\n",
              "          '<a target=\"_blank\" href=https://colab.research.google.com/notebooks/data_table.ipynb>data table notebook</a>'\n",
              "          + ' to learn more about interactive tables.';\n",
              "        element.innerHTML = '';\n",
              "        dataTable['output_type'] = 'display_data';\n",
              "        await google.colab.output.renderOutput(dataTable, element);\n",
              "        const docLink = document.createElement('div');\n",
              "        docLink.innerHTML = docLinkHtml;\n",
              "        element.appendChild(docLink);\n",
              "      }\n",
              "    </script>\n",
              "  </div>\n",
              "\n",
              "\n",
              "    <div id=\"df-ca48871f-38c8-4a74-91df-5317c87aa4fd\">\n",
              "      <button class=\"colab-df-quickchart\" onclick=\"quickchart('df-ca48871f-38c8-4a74-91df-5317c87aa4fd')\"\n",
              "                title=\"Suggest charts\"\n",
              "                style=\"display:none;\">\n",
              "\n",
              "<svg xmlns=\"http://www.w3.org/2000/svg\" height=\"24px\"viewBox=\"0 0 24 24\"\n",
              "     width=\"24px\">\n",
              "    <g>\n",
              "        <path d=\"M19 3H5c-1.1 0-2 .9-2 2v14c0 1.1.9 2 2 2h14c1.1 0 2-.9 2-2V5c0-1.1-.9-2-2-2zM9 17H7v-7h2v7zm4 0h-2V7h2v10zm4 0h-2v-4h2v4z\"/>\n",
              "    </g>\n",
              "</svg>\n",
              "      </button>\n",
              "\n",
              "<style>\n",
              "  .colab-df-quickchart {\n",
              "      --bg-color: #E8F0FE;\n",
              "      --fill-color: #1967D2;\n",
              "      --hover-bg-color: #E2EBFA;\n",
              "      --hover-fill-color: #174EA6;\n",
              "      --disabled-fill-color: #AAA;\n",
              "      --disabled-bg-color: #DDD;\n",
              "  }\n",
              "\n",
              "  [theme=dark] .colab-df-quickchart {\n",
              "      --bg-color: #3B4455;\n",
              "      --fill-color: #D2E3FC;\n",
              "      --hover-bg-color: #434B5C;\n",
              "      --hover-fill-color: #FFFFFF;\n",
              "      --disabled-bg-color: #3B4455;\n",
              "      --disabled-fill-color: #666;\n",
              "  }\n",
              "\n",
              "  .colab-df-quickchart {\n",
              "    background-color: var(--bg-color);\n",
              "    border: none;\n",
              "    border-radius: 50%;\n",
              "    cursor: pointer;\n",
              "    display: none;\n",
              "    fill: var(--fill-color);\n",
              "    height: 32px;\n",
              "    padding: 0;\n",
              "    width: 32px;\n",
              "  }\n",
              "\n",
              "  .colab-df-quickchart:hover {\n",
              "    background-color: var(--hover-bg-color);\n",
              "    box-shadow: 0 1px 2px rgba(60, 64, 67, 0.3), 0 1px 3px 1px rgba(60, 64, 67, 0.15);\n",
              "    fill: var(--button-hover-fill-color);\n",
              "  }\n",
              "\n",
              "  .colab-df-quickchart-complete:disabled,\n",
              "  .colab-df-quickchart-complete:disabled:hover {\n",
              "    background-color: var(--disabled-bg-color);\n",
              "    fill: var(--disabled-fill-color);\n",
              "    box-shadow: none;\n",
              "  }\n",
              "\n",
              "  .colab-df-spinner {\n",
              "    border: 2px solid var(--fill-color);\n",
              "    border-color: transparent;\n",
              "    border-bottom-color: var(--fill-color);\n",
              "    animation:\n",
              "      spin 1s steps(1) infinite;\n",
              "  }\n",
              "\n",
              "  @keyframes spin {\n",
              "    0% {\n",
              "      border-color: transparent;\n",
              "      border-bottom-color: var(--fill-color);\n",
              "      border-left-color: var(--fill-color);\n",
              "    }\n",
              "    20% {\n",
              "      border-color: transparent;\n",
              "      border-left-color: var(--fill-color);\n",
              "      border-top-color: var(--fill-color);\n",
              "    }\n",
              "    30% {\n",
              "      border-color: transparent;\n",
              "      border-left-color: var(--fill-color);\n",
              "      border-top-color: var(--fill-color);\n",
              "      border-right-color: var(--fill-color);\n",
              "    }\n",
              "    40% {\n",
              "      border-color: transparent;\n",
              "      border-right-color: var(--fill-color);\n",
              "      border-top-color: var(--fill-color);\n",
              "    }\n",
              "    60% {\n",
              "      border-color: transparent;\n",
              "      border-right-color: var(--fill-color);\n",
              "    }\n",
              "    80% {\n",
              "      border-color: transparent;\n",
              "      border-right-color: var(--fill-color);\n",
              "      border-bottom-color: var(--fill-color);\n",
              "    }\n",
              "    90% {\n",
              "      border-color: transparent;\n",
              "      border-bottom-color: var(--fill-color);\n",
              "    }\n",
              "  }\n",
              "</style>\n",
              "\n",
              "      <script>\n",
              "        async function quickchart(key) {\n",
              "          const quickchartButtonEl =\n",
              "            document.querySelector('#' + key + ' button');\n",
              "          quickchartButtonEl.disabled = true;  // To prevent multiple clicks.\n",
              "          quickchartButtonEl.classList.add('colab-df-spinner');\n",
              "          try {\n",
              "            const charts = await google.colab.kernel.invokeFunction(\n",
              "                'suggestCharts', [key], {});\n",
              "          } catch (error) {\n",
              "            console.error('Error during call to suggestCharts:', error);\n",
              "          }\n",
              "          quickchartButtonEl.classList.remove('colab-df-spinner');\n",
              "          quickchartButtonEl.classList.add('colab-df-quickchart-complete');\n",
              "        }\n",
              "        (() => {\n",
              "          let quickchartButtonEl =\n",
              "            document.querySelector('#df-ca48871f-38c8-4a74-91df-5317c87aa4fd button');\n",
              "          quickchartButtonEl.style.display =\n",
              "            google.colab.kernel.accessAllowed ? 'block' : 'none';\n",
              "        })();\n",
              "      </script>\n",
              "    </div>\n",
              "\n",
              "    </div>\n",
              "  </div>\n"
            ],
            "application/vnd.google.colaboratory.intrinsic+json": {
              "type": "dataframe",
              "variable_name": "df",
              "summary": "{\n  \"name\": \"df\",\n  \"rows\": 4301,\n  \"fields\": [\n    {\n      \"column\": \"protein_sequence\",\n      \"properties\": {\n        \"dtype\": \"string\",\n        \"num_unique_values\": 4257,\n        \"samples\": [\n          \"MIEFVYPHTQLVAGVDEVGRGPLVGAVVTAAVILDPARPIAGLNDSKKLSEKRRLALYEEIKEKALSWSLGRAEPHEIDELNILHATMLAMQRAVAGLHIAPEYVLIDGNRCPKLPMPAMAVVKGDSRVPEISAASILAKVTRDAEMAALDIVFPQYGFAQHKGYPTAFHLEKLAEHGATEHHRRSFGPVKRALGLAS\",\n          \"MFGYRSNVPKVRLTTDRLVVRLVHDRDAWRLADYYAENRHFLKPWEPVRDESHCYPSGWQARLGMINEFHKQGSAFYFGLFDPDEKEIIGVANFSNVVRGSFHACYLGYSIGQKWQGKGLMFEALTAAIRYMQRTQHIHRIMANYMPHNKRSGDLLARLGFEKEGYAKDYLLIDGQWRDHVLTALTTPDWTPGR\",\n          \"MSHLKDPTTQYYTGEYPKQKQPTPGIQAKMTPVPDCGEKTYVGSGRLKDRKALVTGGDSGIGRAAAIAYAREGADVAISYLPVEEEDAQDVKKIIEECGRKAVLLPGDLSDEKFARSLVHEAHKALGGLDIMALVAGKQVAIPDIADLTSEQFQKTFAINVFALFWLTQEAIPLLPKGASIITTSSIQAYQPSPHLLDYAATKAAILNYSRGLAKQVAEKGIRVNIVAPGPIWTALQISGGQTQDKIPQFGQQTPMKRAGQPAELAPVYVYLASQESSYVTAEVHGVCGGEHLG\"\n        ],\n        \"semantic_type\": \"\",\n        \"description\": \"\"\n      }\n    },\n    {\n      \"column\": \"coding_dna\",\n      \"properties\": {\n        \"dtype\": \"string\",\n        \"num_unique_values\": 4262,\n        \"samples\": [\n          \"ATGACTGAACAGGCAACAACAACCGATGAACTGGCTTTCACAAGGCCGTATGGCGAGCAGGAGAAGCAAATTCTTACTGCCGAAGCGGTAGAATTTCTGACTGAGCTGGTGACGCATTTTACGCCACAACGCAATAAACTTCTGGCAGCGCGCATTCAGCAGCAGCAAGATATTGATAACGGAACGTTGCCTGATTTTATTTCGGAAACAGCTTCCATTCGCGATGCTGATTGGAAAATTCGCGGGATTCCTGCGGACTTAGAAGACCGCCGCGTAGAGATAACTGGCCCGGTAGAGCGCAAGATGGTGATCAACGCGCTCAACGCCAATGTGAAAGTCTTTATGGCCGATTTCGAAGATTCACTGGCACCAGACTGGAACAAAGTGATCGACGGGCAAATTAACCTGCGTGATGCGGTTAACGGCACCATCAGTTACACCAATGAAGCAGGCAAAATTTACCAGCTCAAGCCCAATCCAGCGGTTTTGATTTGTCGGGTACGCGGTCTGCACTTGCCGGAAAAACATGTCACCTGGCGTGGTGAGGCAATCCCCGGCAGCCTGTTTGATTTTGCGCTCTATTTCTTCCACAACTATCAGGCACTGTTGGCAAAGGGCAGTGGTCCCTATTTCTATCTGCCGAAAACCCAGTCCTGGCAGGAAGCGGCCTGGTGGAGCGAAGTCTTCAGCTATGCAGAAGATCGCTTTAATCTGCCGCGCGGCACCATCAAGGCGACGTTGCTGATTGAAACGCTGCCCGCCGTGTTCCAGATGGATGAAATCCTTCACGCGCTGCGTGACCATATTGTTGGTCTGAACTGCGGTCGTTGGGATTACATCTTCAGCTATATCAAAACGTTGAAAAACTATCCCGATCGCGTCCTGCCAGACAGACAGGCAGTGACGATGGATAAACCATTCCTGAATGCTTACTCACGCCTGTTGATTAAAACCTGCCATAAACGCGGTGCTTTTGCGATGGGCGGCATGGCGGCGTTTATTCCGAGCAAAGATGAAGAGCACAATAACCAGGTGCTCAACAAAGTAAAAGCGGATAAATCGCTGGAAGCCAATAACGGTCACGATGGCACATGGATCGCTCACCCAGGCCTTGCGGACACGGCAATGGCGGTATTCAACGACATTCTCGGCTCCCGTAAAAATCAGCTTGAAGTGATGCGCGAACAAGACGCGCCGATTACTGCCGATCAGCTGCTGGCACCTTGTGATGGTGAACGCACCGAAGAAGGTATGCGCGCCAACATTCGCGTGGCTGTGCAGTACATCGAAGCGTGGATCTCTGGCAACGGCTGTGTGCCGATTTATGGCCTGATGGAAGATGCGGCGACGGCTGAAATTTCCCGTACCTCGATCTGGCAGTGGATCCATCATCAAAAAACGTTGAGCAATGGCAAACCGGTGACCAAAGCCTTGTTCCGCCAGATGCTGGGCGAAGAGATGAAAGTCATTGCCAGCGAACTGGGCGAAGAACGTTTCTCCCAGGGGCGTTTTGACGATGCCGCACGCTTGATGGAACAGATCACCACTTCCGATGAGTTAATTGATTTCCTGACCCTGCCAGGCTACCGCCTGTTAGCGTAA\",\n          \"ATGATGAATAATAAAGTCAGCTTCACTAACAGCAATAATCCAACCATCTCTTTGTCTGCAGTGATCTATTTCCCTCCAAAATTTGATGAAACCCGTCAGTATCAGGCAATTGTGTTATCTCACCCAGGTGGGGGCGTTAAAGAACAAACGGCCGGAACCTATGCCAAAAAACTGGCGGAAAAGGGATTTGTCACTATTGCTTATGACGCATCTTATCAAGGTGAAAGTGGCGGCGAGCCGCGTCAGTTAGAAAACCCATACATTCGTACTGAAGACATCAGTGCCGTGATTGATTACCTGACAACGCTTTCTTATGTCGACAATACCCGAATTGGTGCGATGGGAATTTGTGCCGGTGCAGGATATACAGCCAATGCTGCAATTCAGGATCGCCGCATCAAGGCCATCGGTACCGTTAGTGCGGTCAATATTGGTTCGATATTCCGTAATGGTTGGGAAAACAATGTGAAATCTATTGATGCCCTGCCATACGTTGAAGCGGGTTCAAACGCCAGAACCAGCGATATTAGCAGCGGAGAATACGCCATTATGCCACTGGCACCAATGAAGGAGTCCGATGCGCCGAACGAAGAACTGCGTCAGGCCTGGGAGTATTACCACACCCCTCGCGCGCAGTATCCAACAGCACCGGGTTACGCTACTTTGCGCAGCCTTAACCAGATTATTACCTATGATGCTTACCATATGGCGGAAGTGTACCTGACTCAGCCGACGCAGATTGTGGCGGGCAGCCAGGCAGGGAGCAAATGGATGAGTGACGACCTGTACGATCGAGCATCAAGCCAGGATAAACGCTATCACATTGTTGAAGGCGCAAACCATATGGATCTTTATGACGGCAAAGCCTATGTGGCTGAAGCAATTTCAGTATTAGCTCCGTTCTTTGAGGAAACTCTGTAA\",\n          \"ATGCAAAAAGCACAACGGATCATTAAAACCTATCGTCGTAATCGAATGATTGTTTGTACGATTTGCGCACTCGTTACGCTCGCTTCGACCCTGAGCGTGCGATTTATTTCACAGCGTAACTTAAATCAACAACGGGTAGTACAATTCGCCAATCACGCTGTAGAGGAATTAGATAAAGTACTGCTTCCCCTACAGGCAGGTAGCGAAGTCTTGCTTCCGCTGATTGGTCTGCCCTGCTCTGTCGCCCATTTGCCATTACGTAAACAGGCGGCAAAACTCCAAACTGTGCGATCCATTGGCCTGGTGCAAGACGGCACACTTTATTGCTCCAGCATTTTTGGTTATCGCAATGTGCCCGTCGTGGACATTCTGGCTGAACTTCCTGCACCGCAACCACTTTTACGCCTGACGATCGACCGTGCCCTGATTAAAGGCAGTCCGGTTTTGATTCAATGGACGCCTGCAGCGGGCAGTAGCAATGCTGGGGTCATGGAGATGATTAACATCGACTTACTGACGGCAATGCTGCTTGAGCCACAACTGCCGCAAATCAGTAGCGCCAGCCTGACGGTGGACAAACGGCATTTGCTCTATGGTAATGGGCTGGTAGATTCCCTTCCGCAACCTGAAGACAATGAAAACTATCAGGTTTCTTCGCAACGCTTTCCTTTTACCATTAACGTTAATGGTCCGGGGGCTACGGCGCTGGCATGGCACTATCTTCCAACACAATTACCGCTGGCGGTGCTGCTAAGTTTACTGGTGGGCTACATCGCCTGGCTGGCGACCGCTTACCGAATGAGCTTTTCCCGCGAAATCAATCTGGGCCTGGCGCAACATGAGTTCGAATTGTTCTGTCAGCCTTTGCTTAATGCGCGCAGCCAGCAATGTATTGGTGTAGAGATTTTGCTGCGCTGGAACAATCCGCGTCAGGGCTGGATTTCACCGGATGTGTTTATTCCTATCGCGGAAGAACATCATTTAATTGTGCCACTGACCCGCTATGTGATGGCAGAAACCATTCGTCAGCGCCATGTTTTCCCGATGAGTAGTCAGTTTCATGTTGGCATTAACGTCGCACCCAGCCATTTTCGCCGTGGTGTGCTGATAAAAGATCTCAATCAGTACTGGTTTAGCGCTCACCCGATTCAGCAACTGATCCTCGAAATCACCGAACGCGATGCCTTACTGGATGTTGATTATCGGATTGCCCGCGAGCTGCATCGTAAAAACGTCAAACTGGCGATTGATGACTTCGGCACCGGCAACAGCTCGTTTTCCTGGCTTGAAACATTACGTCCTGACGTGCTGAAAATTGATAAGTCATTTACCGCAGCTATAGGTTCTGACGCGGTTAACTCGACGGTGACCGATATCATCATCGCGCTGGGGCAAAGACTGAATATTGAACTGGTGGCGGAGGGCGTGGAAACGCAAGAACAGGCGAAGTATTTGCGCCGTCATGGCGTGCATATTTTGCAAGGGTATTTGTACGCACAGCCGATGCCGCTACGTGATTTTCCCAAATGGCTGGCGGGCAGCCAACCGCCGCCCGCCCGGCATAATGGACATATCACGCCCATTATGCCGTTACGTTAA\"\n        ],\n        \"semantic_type\": \"\",\n        \"description\": \"\"\n      }\n    }\n  ]\n}"
            }
          },
          "metadata": {},
          "execution_count": 66
        }
      ]
    },
    {
      "cell_type": "code",
      "source": [
        "df.shape"
      ],
      "metadata": {
        "colab": {
          "base_uri": "https://localhost:8080/"
        },
        "id": "ZeAO1EbBkbqH",
        "outputId": "f8b02ecf-2f32-4c44-90e0-17ca44697ace"
      },
      "execution_count": 68,
      "outputs": [
        {
          "output_type": "execute_result",
          "data": {
            "text/plain": [
              "(4301, 2)"
            ]
          },
          "metadata": {},
          "execution_count": 68
        }
      ]
    },
    {
      "cell_type": "code",
      "source": [
        "df.to_csv(\"/content/drive/MyDrive/protein_dna_pairs.csv\", index=False)"
      ],
      "metadata": {
        "id": "dtPrnVmelWk-"
      },
      "execution_count": 69,
      "outputs": []
    },
    {
      "cell_type": "code",
      "source": [],
      "metadata": {
        "id": "808J5ho8lbhY"
      },
      "execution_count": null,
      "outputs": []
    }
  ]
}