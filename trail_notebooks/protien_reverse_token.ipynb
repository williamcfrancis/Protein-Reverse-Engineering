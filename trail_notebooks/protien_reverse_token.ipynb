{
  "nbformat": 4,
  "nbformat_minor": 0,
  "metadata": {
    "colab": {
      "provenance": []
    },
    "kernelspec": {
      "name": "python3",
      "display_name": "Python 3"
    },
    "language_info": {
      "name": "python"
    }
  },
  "cells": [
    {
      "cell_type": "code",
      "source": [
        "from google.colab import drive\n",
        "drive.mount('/content/drive')"
      ],
      "metadata": {
        "colab": {
          "base_uri": "https://localhost:8080/"
        },
        "id": "v_zJ25u1U2hY",
        "outputId": "b469e612-9066-4c4d-f13a-82eca4cf1225"
      },
      "execution_count": null,
      "outputs": [
        {
          "output_type": "stream",
          "name": "stdout",
          "text": [
            "Drive already mounted at /content/drive; to attempt to forcibly remount, call drive.mount(\"/content/drive\", force_remount=True).\n"
          ]
        }
      ]
    },
    {
      "cell_type": "code",
      "execution_count": null,
      "metadata": {
        "id": "NV6N-gK6UuxT"
      },
      "outputs": [],
      "source": [
        "import pandas as pd\n",
        "import itertools\n",
        "import numpy as np\n",
        "import os\n",
        "from sklearn.model_selection import train_test_split"
      ]
    },
    {
      "cell_type": "code",
      "source": [
        "df = pd.read_csv(\"/content/drive/MyDrive/codone_mapping.csv\")"
      ],
      "metadata": {
        "id": "JJg3Y8xVUwY2"
      },
      "execution_count": null,
      "outputs": []
    },
    {
      "cell_type": "code",
      "source": [
        "df.head()"
      ],
      "metadata": {
        "colab": {
          "base_uri": "https://localhost:8080/",
          "height": 206
        },
        "id": "szEmc1Chtuya",
        "outputId": "01e5d6c8-09cd-4ef1-ec94-1ca4d2164459"
      },
      "execution_count": null,
      "outputs": [
        {
          "output_type": "execute_result",
          "data": {
            "text/plain": [
              "                                    protein_sequence  \\\n",
              "0                              MKRISTTITTTITITTGNGAG   \n",
              "1  MRVLKFGGTSVANAERFLRVADILESNARQGQVATVLSAPAKITNH...   \n",
              "2  MVKVYAPASSANMSVGFDVLGAAVTPVDGALLGDVVTVEAAETFSL...   \n",
              "3  MKLYNLKDHNEQVSFAQAVTQGLGKNQGLFFPHDLPEFSLTEIDEM...   \n",
              "4  MKKMQSIVLALSLVLVAPMAAQAAEITLVPSVKLQIGDRDNRGYYW...   \n",
              "\n",
              "                                       synthetic_dna  \n",
              "0  ATGAAGCGAATTTCTACGACAATTACCACAACCATAACTATTACAA...  \n",
              "1  ATGCGGGTTCTAAAGTTCGGTGGAACTTCCGTCGCAAATGCAGAGC...  \n",
              "2  ATGGTTAAAGTTTACGCTCCAGCTTCCTCAGCCAATATGTCCGTGG...  \n",
              "3  ATGAAGCTCTACAATTTGAAGGACCACAACGAGCAAGTTAGCTTTG...  \n",
              "4  ATGAAAAAGATGCAAAGTATAGTTCTAGCACTGTCTCTTGTATTGG...  "
            ],
            "text/html": [
              "\n",
              "  <div id=\"df-dd3ec296-b975-468d-9716-fe28e54a8714\" class=\"colab-df-container\">\n",
              "    <div>\n",
              "<style scoped>\n",
              "    .dataframe tbody tr th:only-of-type {\n",
              "        vertical-align: middle;\n",
              "    }\n",
              "\n",
              "    .dataframe tbody tr th {\n",
              "        vertical-align: top;\n",
              "    }\n",
              "\n",
              "    .dataframe thead th {\n",
              "        text-align: right;\n",
              "    }\n",
              "</style>\n",
              "<table border=\"1\" class=\"dataframe\">\n",
              "  <thead>\n",
              "    <tr style=\"text-align: right;\">\n",
              "      <th></th>\n",
              "      <th>protein_sequence</th>\n",
              "      <th>synthetic_dna</th>\n",
              "    </tr>\n",
              "  </thead>\n",
              "  <tbody>\n",
              "    <tr>\n",
              "      <th>0</th>\n",
              "      <td>MKRISTTITTTITITTGNGAG</td>\n",
              "      <td>ATGAAGCGAATTTCTACGACAATTACCACAACCATAACTATTACAA...</td>\n",
              "    </tr>\n",
              "    <tr>\n",
              "      <th>1</th>\n",
              "      <td>MRVLKFGGTSVANAERFLRVADILESNARQGQVATVLSAPAKITNH...</td>\n",
              "      <td>ATGCGGGTTCTAAAGTTCGGTGGAACTTCCGTCGCAAATGCAGAGC...</td>\n",
              "    </tr>\n",
              "    <tr>\n",
              "      <th>2</th>\n",
              "      <td>MVKVYAPASSANMSVGFDVLGAAVTPVDGALLGDVVTVEAAETFSL...</td>\n",
              "      <td>ATGGTTAAAGTTTACGCTCCAGCTTCCTCAGCCAATATGTCCGTGG...</td>\n",
              "    </tr>\n",
              "    <tr>\n",
              "      <th>3</th>\n",
              "      <td>MKLYNLKDHNEQVSFAQAVTQGLGKNQGLFFPHDLPEFSLTEIDEM...</td>\n",
              "      <td>ATGAAGCTCTACAATTTGAAGGACCACAACGAGCAAGTTAGCTTTG...</td>\n",
              "    </tr>\n",
              "    <tr>\n",
              "      <th>4</th>\n",
              "      <td>MKKMQSIVLALSLVLVAPMAAQAAEITLVPSVKLQIGDRDNRGYYW...</td>\n",
              "      <td>ATGAAAAAGATGCAAAGTATAGTTCTAGCACTGTCTCTTGTATTGG...</td>\n",
              "    </tr>\n",
              "  </tbody>\n",
              "</table>\n",
              "</div>\n",
              "    <div class=\"colab-df-buttons\">\n",
              "\n",
              "  <div class=\"colab-df-container\">\n",
              "    <button class=\"colab-df-convert\" onclick=\"convertToInteractive('df-dd3ec296-b975-468d-9716-fe28e54a8714')\"\n",
              "            title=\"Convert this dataframe to an interactive table.\"\n",
              "            style=\"display:none;\">\n",
              "\n",
              "  <svg xmlns=\"http://www.w3.org/2000/svg\" height=\"24px\" viewBox=\"0 -960 960 960\">\n",
              "    <path d=\"M120-120v-720h720v720H120Zm60-500h600v-160H180v160Zm220 220h160v-160H400v160Zm0 220h160v-160H400v160ZM180-400h160v-160H180v160Zm440 0h160v-160H620v160ZM180-180h160v-160H180v160Zm440 0h160v-160H620v160Z\"/>\n",
              "  </svg>\n",
              "    </button>\n",
              "\n",
              "  <style>\n",
              "    .colab-df-container {\n",
              "      display:flex;\n",
              "      gap: 12px;\n",
              "    }\n",
              "\n",
              "    .colab-df-convert {\n",
              "      background-color: #E8F0FE;\n",
              "      border: none;\n",
              "      border-radius: 50%;\n",
              "      cursor: pointer;\n",
              "      display: none;\n",
              "      fill: #1967D2;\n",
              "      height: 32px;\n",
              "      padding: 0 0 0 0;\n",
              "      width: 32px;\n",
              "    }\n",
              "\n",
              "    .colab-df-convert:hover {\n",
              "      background-color: #E2EBFA;\n",
              "      box-shadow: 0px 1px 2px rgba(60, 64, 67, 0.3), 0px 1px 3px 1px rgba(60, 64, 67, 0.15);\n",
              "      fill: #174EA6;\n",
              "    }\n",
              "\n",
              "    .colab-df-buttons div {\n",
              "      margin-bottom: 4px;\n",
              "    }\n",
              "\n",
              "    [theme=dark] .colab-df-convert {\n",
              "      background-color: #3B4455;\n",
              "      fill: #D2E3FC;\n",
              "    }\n",
              "\n",
              "    [theme=dark] .colab-df-convert:hover {\n",
              "      background-color: #434B5C;\n",
              "      box-shadow: 0px 1px 3px 1px rgba(0, 0, 0, 0.15);\n",
              "      filter: drop-shadow(0px 1px 2px rgba(0, 0, 0, 0.3));\n",
              "      fill: #FFFFFF;\n",
              "    }\n",
              "  </style>\n",
              "\n",
              "    <script>\n",
              "      const buttonEl =\n",
              "        document.querySelector('#df-dd3ec296-b975-468d-9716-fe28e54a8714 button.colab-df-convert');\n",
              "      buttonEl.style.display =\n",
              "        google.colab.kernel.accessAllowed ? 'block' : 'none';\n",
              "\n",
              "      async function convertToInteractive(key) {\n",
              "        const element = document.querySelector('#df-dd3ec296-b975-468d-9716-fe28e54a8714');\n",
              "        const dataTable =\n",
              "          await google.colab.kernel.invokeFunction('convertToInteractive',\n",
              "                                                    [key], {});\n",
              "        if (!dataTable) return;\n",
              "\n",
              "        const docLinkHtml = 'Like what you see? Visit the ' +\n",
              "          '<a target=\"_blank\" href=https://colab.research.google.com/notebooks/data_table.ipynb>data table notebook</a>'\n",
              "          + ' to learn more about interactive tables.';\n",
              "        element.innerHTML = '';\n",
              "        dataTable['output_type'] = 'display_data';\n",
              "        await google.colab.output.renderOutput(dataTable, element);\n",
              "        const docLink = document.createElement('div');\n",
              "        docLink.innerHTML = docLinkHtml;\n",
              "        element.appendChild(docLink);\n",
              "      }\n",
              "    </script>\n",
              "  </div>\n",
              "\n",
              "\n",
              "    <div id=\"df-2d77177e-b174-4756-a1bf-3c77a71173a9\">\n",
              "      <button class=\"colab-df-quickchart\" onclick=\"quickchart('df-2d77177e-b174-4756-a1bf-3c77a71173a9')\"\n",
              "                title=\"Suggest charts\"\n",
              "                style=\"display:none;\">\n",
              "\n",
              "<svg xmlns=\"http://www.w3.org/2000/svg\" height=\"24px\"viewBox=\"0 0 24 24\"\n",
              "     width=\"24px\">\n",
              "    <g>\n",
              "        <path d=\"M19 3H5c-1.1 0-2 .9-2 2v14c0 1.1.9 2 2 2h14c1.1 0 2-.9 2-2V5c0-1.1-.9-2-2-2zM9 17H7v-7h2v7zm4 0h-2V7h2v10zm4 0h-2v-4h2v4z\"/>\n",
              "    </g>\n",
              "</svg>\n",
              "      </button>\n",
              "\n",
              "<style>\n",
              "  .colab-df-quickchart {\n",
              "      --bg-color: #E8F0FE;\n",
              "      --fill-color: #1967D2;\n",
              "      --hover-bg-color: #E2EBFA;\n",
              "      --hover-fill-color: #174EA6;\n",
              "      --disabled-fill-color: #AAA;\n",
              "      --disabled-bg-color: #DDD;\n",
              "  }\n",
              "\n",
              "  [theme=dark] .colab-df-quickchart {\n",
              "      --bg-color: #3B4455;\n",
              "      --fill-color: #D2E3FC;\n",
              "      --hover-bg-color: #434B5C;\n",
              "      --hover-fill-color: #FFFFFF;\n",
              "      --disabled-bg-color: #3B4455;\n",
              "      --disabled-fill-color: #666;\n",
              "  }\n",
              "\n",
              "  .colab-df-quickchart {\n",
              "    background-color: var(--bg-color);\n",
              "    border: none;\n",
              "    border-radius: 50%;\n",
              "    cursor: pointer;\n",
              "    display: none;\n",
              "    fill: var(--fill-color);\n",
              "    height: 32px;\n",
              "    padding: 0;\n",
              "    width: 32px;\n",
              "  }\n",
              "\n",
              "  .colab-df-quickchart:hover {\n",
              "    background-color: var(--hover-bg-color);\n",
              "    box-shadow: 0 1px 2px rgba(60, 64, 67, 0.3), 0 1px 3px 1px rgba(60, 64, 67, 0.15);\n",
              "    fill: var(--button-hover-fill-color);\n",
              "  }\n",
              "\n",
              "  .colab-df-quickchart-complete:disabled,\n",
              "  .colab-df-quickchart-complete:disabled:hover {\n",
              "    background-color: var(--disabled-bg-color);\n",
              "    fill: var(--disabled-fill-color);\n",
              "    box-shadow: none;\n",
              "  }\n",
              "\n",
              "  .colab-df-spinner {\n",
              "    border: 2px solid var(--fill-color);\n",
              "    border-color: transparent;\n",
              "    border-bottom-color: var(--fill-color);\n",
              "    animation:\n",
              "      spin 1s steps(1) infinite;\n",
              "  }\n",
              "\n",
              "  @keyframes spin {\n",
              "    0% {\n",
              "      border-color: transparent;\n",
              "      border-bottom-color: var(--fill-color);\n",
              "      border-left-color: var(--fill-color);\n",
              "    }\n",
              "    20% {\n",
              "      border-color: transparent;\n",
              "      border-left-color: var(--fill-color);\n",
              "      border-top-color: var(--fill-color);\n",
              "    }\n",
              "    30% {\n",
              "      border-color: transparent;\n",
              "      border-left-color: var(--fill-color);\n",
              "      border-top-color: var(--fill-color);\n",
              "      border-right-color: var(--fill-color);\n",
              "    }\n",
              "    40% {\n",
              "      border-color: transparent;\n",
              "      border-right-color: var(--fill-color);\n",
              "      border-top-color: var(--fill-color);\n",
              "    }\n",
              "    60% {\n",
              "      border-color: transparent;\n",
              "      border-right-color: var(--fill-color);\n",
              "    }\n",
              "    80% {\n",
              "      border-color: transparent;\n",
              "      border-right-color: var(--fill-color);\n",
              "      border-bottom-color: var(--fill-color);\n",
              "    }\n",
              "    90% {\n",
              "      border-color: transparent;\n",
              "      border-bottom-color: var(--fill-color);\n",
              "    }\n",
              "  }\n",
              "</style>\n",
              "\n",
              "      <script>\n",
              "        async function quickchart(key) {\n",
              "          const quickchartButtonEl =\n",
              "            document.querySelector('#' + key + ' button');\n",
              "          quickchartButtonEl.disabled = true;  // To prevent multiple clicks.\n",
              "          quickchartButtonEl.classList.add('colab-df-spinner');\n",
              "          try {\n",
              "            const charts = await google.colab.kernel.invokeFunction(\n",
              "                'suggestCharts', [key], {});\n",
              "          } catch (error) {\n",
              "            console.error('Error during call to suggestCharts:', error);\n",
              "          }\n",
              "          quickchartButtonEl.classList.remove('colab-df-spinner');\n",
              "          quickchartButtonEl.classList.add('colab-df-quickchart-complete');\n",
              "        }\n",
              "        (() => {\n",
              "          let quickchartButtonEl =\n",
              "            document.querySelector('#df-2d77177e-b174-4756-a1bf-3c77a71173a9 button');\n",
              "          quickchartButtonEl.style.display =\n",
              "            google.colab.kernel.accessAllowed ? 'block' : 'none';\n",
              "        })();\n",
              "      </script>\n",
              "    </div>\n",
              "\n",
              "    </div>\n",
              "  </div>\n"
            ],
            "application/vnd.google.colaboratory.intrinsic+json": {
              "type": "dataframe",
              "variable_name": "df",
              "summary": "{\n  \"name\": \"df\",\n  \"rows\": 300,\n  \"fields\": [\n    {\n      \"column\": \"protein_sequence\",\n      \"properties\": {\n        \"dtype\": \"string\",\n        \"num_unique_values\": 296,\n        \"samples\": [\n          \"MKAFTYERVNTPAEAALSAQRVPGAKFIAGGTNLLDLMKLEIETPTHLIDVNGLGLDKIEVTDAGGLRIGALVRNTDLAAHERVRRDYAVLSRALLAGASGQLRNQATTAGNLLQRTRCPYFYDTNQPCNKRLPGSGCAALEGFSRQHAVVGVSEACIATHPSDMAVAMRLLDAVVETITPEGKTRSITLADFYHPPGKTPHIETALLPGELIVAVTLPPPLGGKHIYRKVRDRASYAFALVSVAAIIQPDGSGRVALGGVAHKPWRIEAADAQLSQGAQAVYDTLFASAHPTAENTFKLLLAKRTLASVLAEARAQA\",\n          \"MERASKMPSSYLYDQ\",\n          \"MKAAAKTQKPKRQEEHANFISWRFALLCGCILLALAFLLGRVAWLQVISPDMLVKEGDMRSLRVQQVSTSRGMITDRSGRPLAVSVPVKAIWADPKEVHDAGGISVGDRWKALANALNIPLDQLSARINANPKGRFIYLARQVNPDMADYIKKLKLPGIHLREESRRYYPSGEVTAHLIGFTNVDSQGIEGVEKSFDKWLTGQPGERIVRKDRYGRVIEDISSTDSQAAHNLALSIDERLQALVYRELNNAVAFNKAESGSAVLVDVNTGEVLAMANSPSYNPNNLSGTPKEAMRNRTITDVFEPGSTVKPMVVMTALQRGVVRENSVLNTIPYRINGHEIKDVARYSELTLTGVLQKSSNVGVSKLALAMPSSALVDTYSRFGLGKATNLGLVGERSGLYPQKQRWSDIERATFSFGYGLMVTPLQLARVYATIGSYGIYRPLSITKVDPPVPGERVFPESIVRTVVHMMESVALPGGGGVKAAIKGYRIAIKTGTAKKVGPDGRYINKYIAYTAGVAPASQPRFALVVVINDPQAGKYYGGAVSAPVFGAIMGGVLRTMNIEPDALTTGDKNEFVINQGEGTGGRS\"\n        ],\n        \"semantic_type\": \"\",\n        \"description\": \"\"\n      }\n    },\n    {\n      \"column\": \"synthetic_dna\",\n      \"properties\": {\n        \"dtype\": \"string\",\n        \"num_unique_values\": 300,\n        \"samples\": [\n          \"ATGGCCATCCCTGCTTTTGGTTTAGGTACTTTTAGGCTAAAGGACGATGTGGTCATTTCGAGTGTTATAACCGCGCTCGAGCTAGGTTACAGAGCCATTGACACTGCTCAAATCTACGATAATGAGGCGGCGGTCGGCCAAGCTATCGCTGAGTCCGGGGTTCCAAGACACGAATTGTACATTACCACAAAGATATGGATCGAAAACCTGTCCAAAGACAAACTAATACCCTCCCTAAAAGAGAGCTTGCAGAAGCTACGAACAGACTATGTCGACCTGACACTTATCCATTGGCCTAGTCCTAACGACGAGGTCTCCGTTGAGGAGTTCATGCAAGCTCTTTTGGAAGCGAAAAAACAAGGGCTCACTCGAGAGATAGGAATTTCTAATTTTACGATCCCCTTGATGGAGAAAGCCATCGCTGCGGTGGGCGCGGAGAACATAGCTACGAACCAAATCGAGCTTTCCCCTTACTTACAAAATCGCAAGGTCGTTGCGTGGGCAAAACAACACGGAATCCACATCACCAGTTATATGACTCTCGCGTACGGCAAGGCTTTAAAGGACGAGGTAATAGCACGCATTGCGGCGAAACATAATGCGACTCCCGCGCAGGTTATACTGGCATGGGCAATGGGGGAAGGGTACTCAGTCATTCCTTCTAGTACGAAGAGGAAAAATTTAGAATCTAACCTTAAAGCGCAGAATTTACAGCTTGACGCTGAAGATAAGAAAGCTATCGCGGCACTGGATTGCAACGATAGGCTAGTGAGTCCCGAGGGGCTTGCACCAGAGTGGGAT\",\n          \"ATGCCAGGGAATCGCCCACACTATGGGCGGTGGCCGCAGCACGATTTTCCGCCGTTCAAAAAACTTAGACCGCAATCAGTTACATCCAGGATACAGCCTGGATCCGATGTGATAGTGTGTGCGGAAATGGACGAGCAATGGGGGTACGTGGGGGCGAAGTCCCGGCAACGATGGTTATTCTATGCGTACGATAGATTAAGGAAGACTGTGGTTGCCCATGTATTTGGTGAGCGCACAATGGCCACGCTGGGGCGACTCATGTCTCTACTCTCTCCTTTCGACGTCGTCATTTGGATGACTGACGGCTGGCCACTATATGAAAGTAGGCTCAAGGGAAAGCTGCACGTGATTTCTAAACGGTATACTCAAAGAATTGAACGCCATAATCTAAATTTGCGTCAGCATTTGGCGCGGCTCGGACGGAAATCACTCTCTTTTTCGAAGTCTGTTGAGCAGCATGATAAGGTTATAGGTCACTACTTGAATATAAAACATTACCAA\",\n          \"ATGTCCGGGCTACCCTTGATCTCGCGTCGAAGATTGTTAACTGCCATGGCCCTATCTCCGCTTCTATGGCAGATGAACACTGCCCATGCTGCGGCGATCGACCCTAATAGAATTGTGGCACTGGAGTGGCTACCTGTCGAGCTCCTCCTTGCTTTAGGCATTGTACCCTATGGGGTTGCCGACACTATAAATTACCGACTTTGGGTAAGTGAACCCCCATTGCCAGACTCGGTTATTGACGTGGGGTTAAGAACCGAGCCAAATCTGGAATTACTTACAGAGATGAAACCGTCATTTATGGTTTGGAGCGCTGGGTATGGGCCGTCGCCCGAGATGCTAGCGCGCATCGCACCAGGAAGGGGATTCAATTTTAGTGACGGCAAACAACCCTTAGCGATGGCTCGCAAGTCTCTCACTGAGATGGCGGACCTATTGAACCTGCAAAGTGCGGCAGAGACCCACCTGGCGCAGTATGAGGATTTTATCAGATCTATGAAACCGCGGTTTGTCAAACGGGGAGCAAGGCCATTGCTACTTACCACCCTAATCGATCCCCGGCATATGCTTGTATTCGGACCTAATTCTTTATTCCAGGAGATTCTAGATGAGTACGGGATACCAAACGCGTGGCAGGGCGAGACTAATTTTTGGGGAAGCACCGCAGTGTCCATTGACAGGCTAGCGGCGTACAAGGACGTAGACGTGTTGTGCTTTGATCACGACAACTCAAAGGACATGGACGCCCTGATGGCGACTCCGCTATGGCAAGCAATGCCTTTCGTTCGAGCGGGACGTTTCCAGCGAGTACCCGCAGTTTGGTTCTATGGCGCAACCCTATCGGCTATGCATTTTGTGCGAGTGCTAGACAATGCAATCGGCGGGAAGGCC\"\n        ],\n        \"semantic_type\": \"\",\n        \"description\": \"\"\n      }\n    }\n  ]\n}"
            }
          },
          "metadata": {},
          "execution_count": 20
        }
      ]
    },
    {
      "cell_type": "code",
      "source": [
        "proteins = df[\"protein_sequence\"].tolist()\n",
        "dnas = df[\"synthetic_dna\"].tolist()\n"
      ],
      "metadata": {
        "id": "_hj9l_oaVNCR"
      },
      "execution_count": null,
      "outputs": []
    },
    {
      "cell_type": "code",
      "source": [
        "# Define vocab\n",
        "amino_acids = list(\"ACDEFGHIKLMNPQRSTVWY\")\n",
        "amino_vocab = {aa: idx for idx, aa in enumerate(amino_acids)}\n",
        "amino_vocab[\"<PAD>\"] = 20\n",
        "amino_vocab[\"<SOS>\"] = 21"
      ],
      "metadata": {
        "id": "MdWQwN1cVPMA"
      },
      "execution_count": null,
      "outputs": []
    },
    {
      "cell_type": "code",
      "source": [
        "nucleotides = [\"A\", \"T\", \"C\", \"G\"]"
      ],
      "metadata": {
        "id": "EJoR-Y6kVRRZ"
      },
      "execution_count": null,
      "outputs": []
    },
    {
      "cell_type": "code",
      "source": [
        "codons = [\"\".join(c) for c in itertools.product(nucleotides, repeat=3)]"
      ],
      "metadata": {
        "id": "_gGU2zE-VtS8"
      },
      "execution_count": null,
      "outputs": []
    },
    {
      "cell_type": "code",
      "source": [
        "codon_vocab = {codon: idx for idx, codon in enumerate(codons)}  # 0–63\n",
        "codon_vocab[\"<PAD>\"] = 64\n",
        "codon_vocab[\"<SOS>\"] = 65\n",
        "codon_vocab[\"<EOS>\"] = 66"
      ],
      "metadata": {
        "id": "yPKiVTDRVvZE"
      },
      "execution_count": null,
      "outputs": []
    },
    {
      "cell_type": "code",
      "source": [
        "def tokenize_protein(seq):\n",
        "    return [amino_vocab[aa] for aa in seq if aa in amino_vocab]"
      ],
      "metadata": {
        "id": "HxfCfjJOVxQ9"
      },
      "execution_count": null,
      "outputs": []
    },
    {
      "cell_type": "code",
      "source": [
        "def tokenize_dna_to_codons(seq):\n",
        "    codon_seq = [seq[i:i+3] for i in range(0, len(seq), 3)]\n",
        "    codon_ids = [codon_vocab[c] for c in codon_seq if c in codon_vocab]\n",
        "    return [65] + codon_ids + [66]  # Add <SOS> at start, <EOS> at end\n"
      ],
      "metadata": {
        "id": "SI1QAu_SV3Tt"
      },
      "execution_count": null,
      "outputs": []
    },
    {
      "cell_type": "code",
      "source": [
        "\n",
        "# Tokenize all sequences\n",
        "X, Y = [], []\n",
        "for prot, dna in zip(proteins, dnas):\n",
        "    p_tok = tokenize_protein(prot)\n",
        "    d_tok = tokenize_dna_to_codons(dna)\n",
        "    X.append(p_tok)\n",
        "    Y.append(d_tok)"
      ],
      "metadata": {
        "id": "oS9tMcIAV3rl"
      },
      "execution_count": null,
      "outputs": []
    },
    {
      "cell_type": "code",
      "source": [
        "# Padding to MAX_LEN\n",
        "MAX_LEN = 1160\n",
        "def pad_sequence(seq, max_len, pad_val):\n",
        "    return seq + [pad_val] * (max_len - len(seq)) if len(seq) < max_len else seq[:max_len]"
      ],
      "metadata": {
        "id": "Fs6ia_LXV5X1"
      },
      "execution_count": null,
      "outputs": []
    },
    {
      "cell_type": "code",
      "source": [
        "\n",
        "X = [pad_sequence(x, MAX_LEN, amino_vocab[\"<PAD>\"]) for x in X]\n",
        "Y = [pad_sequence(y, MAX_LEN, codon_vocab[\"<PAD>\"]) for y in Y]\n"
      ],
      "metadata": {
        "id": "oRmbh0dWV7bQ"
      },
      "execution_count": null,
      "outputs": []
    },
    {
      "cell_type": "code",
      "source": [
        "# Train-test split\n",
        "X_train, X_test, Y_train, Y_test = train_test_split(X, Y, test_size=0.2, random_state=42)"
      ],
      "metadata": {
        "id": "-13o0ESJV9B2"
      },
      "execution_count": null,
      "outputs": []
    },
    {
      "cell_type": "code",
      "source": [
        "os.makedirs(\"/content/drive/MyDrive/\", exist_ok=True)\n",
        "np.save(\"/content/drive/MyDrive/X_train_t.npy\", np.array(X_train))\n",
        "np.save(\"/content/drive/MyDrive/Y_train_t.npy\", np.array(Y_train))\n",
        "np.save(\"/content/drive/MyDrive/X_test_t.npy\", np.array(X_test))\n",
        "np.save(\"/content/drive/MyDrive/Y_test_t.npy\", np.array(Y_test))"
      ],
      "metadata": {
        "id": "NzwyvrlpV_M2"
      },
      "execution_count": null,
      "outputs": []
    },
    {
      "cell_type": "code",
      "source": [],
      "metadata": {
        "id": "gsTT_5jjWFiH"
      },
      "execution_count": null,
      "outputs": []
    }
  ]
}